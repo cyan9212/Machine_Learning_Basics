{
  "nbformat": 4,
  "nbformat_minor": 0,
  "metadata": {
    "colab": {
      "name": "Neural_Network_03.ipynb",
      "provenance": [],
      "collapsed_sections": []
    },
    "kernelspec": {
      "name": "python3",
      "display_name": "Python 3"
    },
    "language_info": {
      "name": "python"
    }
  },
  "cells": [
    {
      "cell_type": "markdown",
      "source": [
        "## 손실 곡선"
      ],
      "metadata": {
        "id": "mWJZhIq3zI7i"
      }
    },
    {
      "cell_type": "code",
      "source": [
        "from tensorflow import keras\n",
        "from sklearn.model_selection import train_test_split\n",
        "\n",
        "(train_input, train_target), (test_input, test_target) = keras.datasets.fashion_mnist.load_data()"
      ],
      "metadata": {
        "colab": {
          "base_uri": "https://localhost:8080/"
        },
        "id": "VeGGmhBmzS1g",
        "outputId": "6b5edcfa-3967-4bcf-d1f5-11e87767a53f"
      },
      "execution_count": null,
      "outputs": [
        {
          "output_type": "stream",
          "name": "stdout",
          "text": [
            "Downloading data from https://storage.googleapis.com/tensorflow/tf-keras-datasets/train-labels-idx1-ubyte.gz\n",
            "32768/29515 [=================================] - 0s 0us/step\n",
            "40960/29515 [=========================================] - 0s 0us/step\n",
            "Downloading data from https://storage.googleapis.com/tensorflow/tf-keras-datasets/train-images-idx3-ubyte.gz\n",
            "26427392/26421880 [==============================] - 0s 0us/step\n",
            "26435584/26421880 [==============================] - 0s 0us/step\n",
            "Downloading data from https://storage.googleapis.com/tensorflow/tf-keras-datasets/t10k-labels-idx1-ubyte.gz\n",
            "16384/5148 [===============================================================================================] - 0s 0us/step\n",
            "Downloading data from https://storage.googleapis.com/tensorflow/tf-keras-datasets/t10k-images-idx3-ubyte.gz\n",
            "4423680/4422102 [==============================] - 0s 0us/step\n",
            "4431872/4422102 [==============================] - 0s 0us/step\n"
          ]
        }
      ]
    },
    {
      "cell_type": "code",
      "source": [
        "train_scaled = train_input / 255.0\n",
        "train_scaled, val_scaled, train_target, val_target = train_test_split(train_scaled, train_target, test_size=0.2, random_state=42)"
      ],
      "metadata": {
        "id": "DZelXgIszerM"
      },
      "execution_count": null,
      "outputs": []
    },
    {
      "cell_type": "code",
      "source": [
        "def model_fn(a_layer=None):\n",
        "  model = keras.Sequential()\n",
        "  model.add(keras.layers.Flatten(input_shape=(28,28)))\n",
        "  model.add(keras.layers.Dense(100, activation='relu'))\n",
        "  if a_layer:\n",
        "    model.add(a_layer)\n",
        "  model.add(keras.layers.Dense(10, activation='softmax'))\n",
        "  return model"
      ],
      "metadata": {
        "id": "Ycs0SbnhzuK_"
      },
      "execution_count": null,
      "outputs": []
    },
    {
      "cell_type": "code",
      "source": [
        "model = model_fn()\n",
        "model.summary()"
      ],
      "metadata": {
        "colab": {
          "base_uri": "https://localhost:8080/"
        },
        "id": "pER7fA5dz7Qf",
        "outputId": "7166bf34-f1c9-422f-dd3e-13d7680fdbeb"
      },
      "execution_count": null,
      "outputs": [
        {
          "output_type": "stream",
          "name": "stdout",
          "text": [
            "Model: \"sequential_1\"\n",
            "_________________________________________________________________\n",
            " Layer (type)                Output Shape              Param #   \n",
            "=================================================================\n",
            " flatten (Flatten)           (None, 784)               0         \n",
            "                                                                 \n",
            " dense (Dense)               (None, 100)               78500     \n",
            "                                                                 \n",
            " dense_1 (Dense)             (None, 10)                1010      \n",
            "                                                                 \n",
            "=================================================================\n",
            "Total params: 79,510\n",
            "Trainable params: 79,510\n",
            "Non-trainable params: 0\n",
            "_________________________________________________________________\n"
          ]
        }
      ]
    },
    {
      "cell_type": "code",
      "source": [
        "model.compile(loss='sparse_categorical_crossentropy', metrics='accuracy')\n",
        "history = model.fit(train_scaled, train_target, epochs=5, verbose=0)"
      ],
      "metadata": {
        "id": "r8bCnpZv0T4l"
      },
      "execution_count": null,
      "outputs": []
    },
    {
      "cell_type": "code",
      "source": [
        "print(history.history.keys())"
      ],
      "metadata": {
        "colab": {
          "base_uri": "https://localhost:8080/"
        },
        "id": "jIDl2-Xb0p9V",
        "outputId": "b875ce0c-839c-4071-b325-935785fed852"
      },
      "execution_count": null,
      "outputs": [
        {
          "output_type": "stream",
          "name": "stdout",
          "text": [
            "dict_keys(['loss', 'accuracy'])\n"
          ]
        }
      ]
    },
    {
      "cell_type": "code",
      "source": [
        "import matplotlib.pyplot as plt\n",
        "\n",
        "plt.plot(history.history['loss'])\n",
        "plt.xlabel('epoch')\n",
        "plt.ylabel('loss')\n",
        "plt.show()"
      ],
      "metadata": {
        "colab": {
          "base_uri": "https://localhost:8080/",
          "height": 279
        },
        "id": "gyBTZyNA0x6D",
        "outputId": "4d569d60-526f-467c-c49f-8499c1d8e501"
      },
      "execution_count": null,
      "outputs": [
        {
          "output_type": "display_data",
          "data": {
            "image/png": "[encoded data removed]",
            "text/plain": [
              "<Figure size 432x288 with 1 Axes>"
            ]
          },
          "metadata": {
            "needs_background": "light"
          }
        }
      ]
    },
    {
      "cell_type": "code",
      "source": [
        "plt.plot(history.history['accuracy'])\n",
        "plt.xlabel('epoch')\n",
        "plt.ylabel('accuracy')\n",
        "plt.show()"
      ],
      "metadata": {
        "colab": {
          "base_uri": "https://localhost:8080/",
          "height": 279
        },
        "id": "j-gw_XSm1Cp6",
        "outputId": "8bbbabae-c606-45a8-fb46-067fffab9cdf"
      },
      "execution_count": null,
      "outputs": [
        {
          "output_type": "display_data",
          "data": {
            "image/png": "[encoded data removed]",
            "text/plain": [
              "<Figure size 432x288 with 1 Axes>"
            ]
          },
          "metadata": {
            "needs_background": "light"
          }
        }
      ]
    },
    {
      "cell_type": "code",
      "source": [
        "# 에포크 횟수를 20으로 늘려서 모델을 훈련\n",
        "model = model_fn()\n",
        "model.compile(loss='sparse_categorical_crossentropy', metrics='accuracy')\n",
        "history = model.fit(train_scaled, train_target, epochs=20, verbose=0)"
      ],
      "metadata": {
        "id": "UfcOfLMw1MSZ"
      },
      "execution_count": null,
      "outputs": []
    },
    {
      "cell_type": "code",
      "source": [
        "plt.plot(history.history['loss'])\n",
        "plt.xlabel('epoch')\n",
        "plt.ylabel('loss')\n",
        "plt.show()"
      ],
      "metadata": {
        "colab": {
          "base_uri": "https://localhost:8080/",
          "height": 279
        },
        "id": "HtYJwphu1Z_7",
        "outputId": "ca4bae40-9daa-4e1d-8071-96fa6c61c851"
      },
      "execution_count": null,
      "outputs": [
        {
          "output_type": "display_data",
          "data": {
            "image/png": "[encoded data removed]",
            "text/plain": [
              "<Figure size 432x288 with 1 Axes>"
            ]
          },
          "metadata": {
            "needs_background": "light"
          }
        }
      ]
    },
    {
      "cell_type": "markdown",
      "source": [
        "## 검증 손실\n",
        "- 인공신경망은 모두 일종의 경사 하강법을 사용하기 때문에 epoch 횟수가 증가하면 과대적합이 일어날 수 있다."
      ],
      "metadata": {
        "id": "4G4C0LIX1phh"
      }
    },
    {
      "cell_type": "code",
      "source": [
        "model = model_fn()\n",
        "model.compile(loss='sparse_categorical_crossentropy', metrics='accuracy')\n",
        "history = model.fit(train_scaled, train_target, epochs=20, verbose=0, validation_data=(val_scaled, val_target))"
      ],
      "metadata": {
        "id": "CP1GNm-v1r7F"
      },
      "execution_count": null,
      "outputs": []
    },
    {
      "cell_type": "code",
      "source": [
        "print(history.history.keys())"
      ],
      "metadata": {
        "colab": {
          "base_uri": "https://localhost:8080/"
        },
        "id": "WD0JI7q42TVb",
        "outputId": "ac7c236c-1dca-41d0-cd3e-4886ff6e16dc"
      },
      "execution_count": null,
      "outputs": [
        {
          "output_type": "stream",
          "name": "stdout",
          "text": [
            "dict_keys(['loss', 'accuracy', 'val_loss', 'val_accuracy'])\n"
          ]
        }
      ]
    },
    {
      "cell_type": "code",
      "source": [
        "plt.plot(history.history['loss'])\n",
        "plt.plot(history.history['val_loss'])\n",
        "plt.xlabel('epoch')\n",
        "plt.ylabel('loss')\n",
        "plt.show()"
      ],
      "metadata": {
        "colab": {
          "base_uri": "https://localhost:8080/",
          "height": 279
        },
        "id": "ZEc0bw0529lM",
        "outputId": "ee83c3d1-797a-4cec-dbdc-0e37160394ac"
      },
      "execution_count": null,
      "outputs": [
        {
          "output_type": "display_data",
          "data": {
            "image/png": "[encoded data removed]",
            "text/plain": [
              "<Figure size 432x288 with 1 Axes>"
            ]
          },
          "metadata": {
            "needs_background": "light"
          }
        }
      ]
    },
    {
      "cell_type": "markdown",
      "source": [
        "- 초기에 검증 손실이 감소하다가 5번째 epoch를 지나면서 다시 상승하기 시작\n",
        "- 반면에 훈련 손실은 꾸준히 감소하기 때문에 과대적합 모델이 형성\n",
        "- 검증 손실이 상승하는 시점을 가능한 뒤로 늦추면 검증 세트에 대한 손실이 줄어들 뿐만 아니라 검증 세트에 대한 정확도도 증가할 것"
      ],
      "metadata": {
        "id": "_2Y1CDtc3O4O"
      }
    },
    {
      "cell_type": "code",
      "source": [
        "# 옵티마이저 하이퍼파라미터를 조정하여 과대적합을 완화\n",
        "model = model_fn()\n",
        "model.compile(optimizer='adam', loss='sparse_categorical_crossentropy', metrics='accuracy')\n",
        "history = model.fit(train_scaled, train_target, epochs=20, validation_data=(val_scaled, val_target))"
      ],
      "metadata": {
        "colab": {
          "base_uri": "https://localhost:8080/"
        },
        "id": "rlYd1IpY3L-W",
        "outputId": "f409b1e0-b07e-4a3c-b6fe-067cd24104b8"
      },
      "execution_count": null,
      "outputs": [
        {
          "output_type": "stream",
          "name": "stdout",
          "text": [
            "Epoch 1/20\n",
            "1500/1500 [==============================] - 4s 3ms/step - loss: 0.5226 - accuracy: 0.8182 - val_loss: 0.4334 - val_accuracy: 0.8466\n",
            "Epoch 2/20\n",
            "1500/1500 [==============================] - 4s 2ms/step - loss: 0.4005 - accuracy: 0.8572 - val_loss: 0.4235 - val_accuracy: 0.8492\n",
            "Epoch 3/20\n",
            "1500/1500 [==============================] - 5s 3ms/step - loss: 0.3578 - accuracy: 0.8710 - val_loss: 0.3674 - val_accuracy: 0.8689\n",
            "Epoch 4/20\n",
            "1500/1500 [==============================] - 5s 3ms/step - loss: 0.3275 - accuracy: 0.8798 - val_loss: 0.3505 - val_accuracy: 0.8755\n",
            "Epoch 5/20\n",
            "1500/1500 [==============================] - 6s 4ms/step - loss: 0.3110 - accuracy: 0.8864 - val_loss: 0.3379 - val_accuracy: 0.8783\n",
            "Epoch 6/20\n",
            "1500/1500 [==============================] - 7s 5ms/step - loss: 0.2917 - accuracy: 0.8920 - val_loss: 0.3379 - val_accuracy: 0.8799\n",
            "Epoch 7/20\n",
            "1500/1500 [==============================] - 6s 4ms/step - loss: 0.2797 - accuracy: 0.8972 - val_loss: 0.3543 - val_accuracy: 0.8762\n",
            "Epoch 8/20\n",
            "1500/1500 [==============================] - 5s 3ms/step - loss: 0.2671 - accuracy: 0.9013 - val_loss: 0.3184 - val_accuracy: 0.8827\n",
            "Epoch 9/20\n",
            "1500/1500 [==============================] - 5s 3ms/step - loss: 0.2585 - accuracy: 0.9054 - val_loss: 0.3275 - val_accuracy: 0.8819\n",
            "Epoch 10/20\n",
            "1500/1500 [==============================] - 5s 3ms/step - loss: 0.2477 - accuracy: 0.9075 - val_loss: 0.3349 - val_accuracy: 0.8819\n",
            "Epoch 11/20\n",
            "1500/1500 [==============================] - 4s 3ms/step - loss: 0.2420 - accuracy: 0.9097 - val_loss: 0.3412 - val_accuracy: 0.8809\n",
            "Epoch 12/20\n",
            "1500/1500 [==============================] - 4s 3ms/step - loss: 0.2334 - accuracy: 0.9131 - val_loss: 0.3258 - val_accuracy: 0.8823\n",
            "Epoch 13/20\n",
            "1500/1500 [==============================] - 6s 4ms/step - loss: 0.2262 - accuracy: 0.9150 - val_loss: 0.3250 - val_accuracy: 0.8900\n",
            "Epoch 14/20\n",
            "1500/1500 [==============================] - 6s 4ms/step - loss: 0.2228 - accuracy: 0.9155 - val_loss: 0.3235 - val_accuracy: 0.8870\n",
            "Epoch 15/20\n",
            "1500/1500 [==============================] - 4s 3ms/step - loss: 0.2122 - accuracy: 0.9197 - val_loss: 0.3489 - val_accuracy: 0.8834\n",
            "Epoch 16/20\n",
            "1500/1500 [==============================] - 4s 2ms/step - loss: 0.2067 - accuracy: 0.9211 - val_loss: 0.3498 - val_accuracy: 0.8863\n",
            "Epoch 17/20\n",
            "1500/1500 [==============================] - 4s 3ms/step - loss: 0.2028 - accuracy: 0.9236 - val_loss: 0.3443 - val_accuracy: 0.8878\n",
            "Epoch 18/20\n",
            "1500/1500 [==============================] - 4s 3ms/step - loss: 0.1981 - accuracy: 0.9254 - val_loss: 0.3475 - val_accuracy: 0.8849\n",
            "Epoch 19/20\n",
            "1500/1500 [==============================] - 4s 2ms/step - loss: 0.1907 - accuracy: 0.9285 - val_loss: 0.3680 - val_accuracy: 0.8834\n",
            "Epoch 20/20\n",
            "1500/1500 [==============================] - 4s 3ms/step - loss: 0.1858 - accuracy: 0.9296 - val_loss: 0.3355 - val_accuracy: 0.8898\n"
          ]
        }
      ]
    },
    {
      "cell_type": "code",
      "source": [
        "plt.plot(history.history['loss'])\n",
        "plt.plot(history.history['val_loss'])\n",
        "plt.xlabel('epoch')\n",
        "plt.ylabel('loss')\n",
        "plt.legend(['train', 'val'])\n",
        "plt.show()"
      ],
      "metadata": {
        "colab": {
          "base_uri": "https://localhost:8080/",
          "height": 279
        },
        "id": "KQ1DqBXr4BM6",
        "outputId": "38b42b68-acf1-46d2-cbc8-d61b72defef3"
      },
      "execution_count": null,
      "outputs": [
        {
          "output_type": "display_data",
          "data": {
            "image/png": "[encoded data removed]",
            "text/plain": [
              "<Figure size 432x288 with 1 Axes>"
            ]
          },
          "metadata": {
            "needs_background": "light"
          }
        }
      ]
    },
    {
      "cell_type": "markdown",
      "source": [
        "- 과대적합이 훨씬 줄어든 것을 확인할 수 있다.\n",
        "- 더 나은 손실 곡선을 얻기 위해 추가로 학습률을 조정해 볼 수 있다."
      ],
      "metadata": {
        "id": "liZJ08BL4a6w"
      }
    },
    {
      "cell_type": "markdown",
      "source": [
        "## 드롭아웃\n",
        "- 일부 노드를 랜덤하게 꺼서(출력을 0으로 만들어) 과대적합을 막는다.\n",
        "- 얼마나 많은 뉴런을 드롭할지는 직접 설정해야 할 하이퍼파라미터"
      ],
      "metadata": {
        "id": "h_rgPvqu4mtf"
      }
    },
    {
      "cell_type": "code",
      "source": [
        "model = model_fn(keras.layers.Dropout(0.3)) # 은닉층의 30%를 dropout\n",
        "model.summary()"
      ],
      "metadata": {
        "colab": {
          "base_uri": "https://localhost:8080/"
        },
        "id": "I0k7hCtF4tII",
        "outputId": "210e02bc-2c87-4f48-fc77-dae7e0886ade"
      },
      "execution_count": null,
      "outputs": [
        {
          "output_type": "stream",
          "name": "stdout",
          "text": [
            "Model: \"sequential_6\"\n",
            "_________________________________________________________________\n",
            " Layer (type)                Output Shape              Param #   \n",
            "=================================================================\n",
            " flatten_5 (Flatten)         (None, 784)               0         \n",
            "                                                                 \n",
            " dense_10 (Dense)            (None, 100)               78500     \n",
            "                                                                 \n",
            " dropout (Dropout)           (None, 100)               0         \n",
            "                                                                 \n",
            " dense_11 (Dense)            (None, 10)                1010      \n",
            "                                                                 \n",
            "=================================================================\n",
            "Total params: 79,510\n",
            "Trainable params: 79,510\n",
            "Non-trainable params: 0\n",
            "_________________________________________________________________\n"
          ]
        }
      ]
    },
    {
      "cell_type": "code",
      "source": [
        "model.compile(optimizer='adam', loss='sparse_categorical_crossentropy', metrics='accuracy')\n",
        "history = model.fit(train_scaled, train_target, epochs=20, validation_data=(val_scaled, val_target))"
      ],
      "metadata": {
        "colab": {
          "base_uri": "https://localhost:8080/"
        },
        "id": "jaGXYHp85YBb",
        "outputId": "709ad0cb-08ff-4c3b-ac68-a8d4b3aec4ab"
      },
      "execution_count": null,
      "outputs": [
        {
          "output_type": "stream",
          "name": "stdout",
          "text": [
            "Epoch 1/20\n",
            "1500/1500 [==============================] - 7s 4ms/step - loss: 0.6033 - accuracy: 0.7881 - val_loss: 0.4352 - val_accuracy: 0.8426\n",
            "Epoch 2/20\n",
            "1500/1500 [==============================] - 7s 5ms/step - loss: 0.4410 - accuracy: 0.8413 - val_loss: 0.3882 - val_accuracy: 0.8587\n",
            "Epoch 3/20\n",
            "1500/1500 [==============================] - 7s 4ms/step - loss: 0.4060 - accuracy: 0.8534 - val_loss: 0.3743 - val_accuracy: 0.8635\n",
            "Epoch 4/20\n",
            "1500/1500 [==============================] - 7s 5ms/step - loss: 0.3827 - accuracy: 0.8597 - val_loss: 0.3579 - val_accuracy: 0.8705\n",
            "Epoch 5/20\n",
            "1500/1500 [==============================] - 5s 3ms/step - loss: 0.3659 - accuracy: 0.8655 - val_loss: 0.3563 - val_accuracy: 0.8671\n",
            "Epoch 6/20\n",
            "1500/1500 [==============================] - 6s 4ms/step - loss: 0.3568 - accuracy: 0.8691 - val_loss: 0.3338 - val_accuracy: 0.8793\n",
            "Epoch 7/20\n",
            "1500/1500 [==============================] - 5s 3ms/step - loss: 0.3430 - accuracy: 0.8726 - val_loss: 0.3343 - val_accuracy: 0.8811\n",
            "Epoch 8/20\n",
            "1500/1500 [==============================] - 5s 3ms/step - loss: 0.3373 - accuracy: 0.8741 - val_loss: 0.3335 - val_accuracy: 0.8775\n",
            "Epoch 9/20\n",
            "1500/1500 [==============================] - 5s 3ms/step - loss: 0.3288 - accuracy: 0.8773 - val_loss: 0.3337 - val_accuracy: 0.8782\n",
            "Epoch 10/20\n",
            "1500/1500 [==============================] - 4s 3ms/step - loss: 0.3226 - accuracy: 0.8800 - val_loss: 0.3341 - val_accuracy: 0.8783\n",
            "Epoch 11/20\n",
            "1500/1500 [==============================] - 5s 3ms/step - loss: 0.3137 - accuracy: 0.8826 - val_loss: 0.3395 - val_accuracy: 0.8777\n",
            "Epoch 12/20\n",
            "1500/1500 [==============================] - 4s 3ms/step - loss: 0.3098 - accuracy: 0.8849 - val_loss: 0.3237 - val_accuracy: 0.8812\n",
            "Epoch 13/20\n",
            "1500/1500 [==============================] - 4s 3ms/step - loss: 0.3042 - accuracy: 0.8857 - val_loss: 0.3307 - val_accuracy: 0.8840\n",
            "Epoch 14/20\n",
            "1500/1500 [==============================] - 4s 3ms/step - loss: 0.3024 - accuracy: 0.8869 - val_loss: 0.3385 - val_accuracy: 0.8770\n",
            "Epoch 15/20\n",
            "1500/1500 [==============================] - 4s 2ms/step - loss: 0.2946 - accuracy: 0.8893 - val_loss: 0.3263 - val_accuracy: 0.8849\n",
            "Epoch 16/20\n",
            "1500/1500 [==============================] - 4s 3ms/step - loss: 0.2923 - accuracy: 0.8900 - val_loss: 0.3309 - val_accuracy: 0.8833\n",
            "Epoch 17/20\n",
            "1500/1500 [==============================] - 4s 2ms/step - loss: 0.2889 - accuracy: 0.8913 - val_loss: 0.3166 - val_accuracy: 0.8888\n",
            "Epoch 18/20\n",
            "1500/1500 [==============================] - 4s 2ms/step - loss: 0.2846 - accuracy: 0.8938 - val_loss: 0.3188 - val_accuracy: 0.8898\n",
            "Epoch 19/20\n",
            "1500/1500 [==============================] - 4s 2ms/step - loss: 0.2788 - accuracy: 0.8946 - val_loss: 0.3188 - val_accuracy: 0.8892\n",
            "Epoch 20/20\n",
            "1500/1500 [==============================] - 4s 2ms/step - loss: 0.2800 - accuracy: 0.8947 - val_loss: 0.3192 - val_accuracy: 0.8882\n"
          ]
        }
      ]
    },
    {
      "cell_type": "code",
      "source": [
        "plt.plot(history.history['loss'])\n",
        "plt.plot(history.history['val_loss'])\n",
        "plt.xlabel('epoch' ,fontsize=14)\n",
        "plt.ylabel('loss', fontsize=14)\n",
        "plt.legend(['train', 'val'])\n",
        "plt.show()"
      ],
      "metadata": {
        "colab": {
          "base_uri": "https://localhost:8080/",
          "height": 283
        },
        "id": "T5s_pUbJ5uC4",
        "outputId": "0c5b72de-097a-474c-d168-0424fc5f514e"
      },
      "execution_count": null,
      "outputs": [
        {
          "output_type": "display_data",
          "data": {
            "image/png": "[encoded data removed]",
            "text/plain": [
              "<Figure size 432x288 with 1 Axes>"
            ]
          },
          "metadata": {
            "needs_background": "light"
          }
        }
      ]
    },
    {
      "cell_type": "markdown",
      "source": [
        "과대적합이 감소한 것을 확인할 수 있다.\n"
      ],
      "metadata": {
        "id": "9XLdNt2-6T2T"
      }
    },
    {
      "cell_type": "markdown",
      "source": [
        "## 모델 저장과 복원"
      ],
      "metadata": {
        "id": "XrrJIjFH6Rrt"
      }
    },
    {
      "cell_type": "code",
      "source": [
        "# epoch 횟수를 10으로 재설정 하고 모델을 훈련\n",
        "\n",
        "model = model_fn(keras.layers.Dropout(0.3))\n",
        "model.compile(optimizer='adam', loss='sparse_categorical_crossentropy', metrics='accuracy')\n",
        "history = model.fit(train_scaled, train_target, epochs=10, validation_data=(val_scaled, val_target))"
      ],
      "metadata": {
        "colab": {
          "base_uri": "https://localhost:8080/"
        },
        "id": "4DA3yefp6ZGm",
        "outputId": "5f916064-be29-41ea-c10b-983cc241455a"
      },
      "execution_count": null,
      "outputs": [
        {
          "output_type": "stream",
          "name": "stdout",
          "text": [
            "Epoch 1/10\n",
            "1500/1500 [==============================] - 5s 3ms/step - loss: 0.5985 - accuracy: 0.7924 - val_loss: 0.4307 - val_accuracy: 0.8467\n",
            "Epoch 2/10\n",
            "1500/1500 [==============================] - 4s 3ms/step - loss: 0.4425 - accuracy: 0.8417 - val_loss: 0.3821 - val_accuracy: 0.8625\n",
            "Epoch 3/10\n",
            "1500/1500 [==============================] - 4s 3ms/step - loss: 0.4067 - accuracy: 0.8529 - val_loss: 0.3681 - val_accuracy: 0.8657\n",
            "Epoch 4/10\n",
            "1500/1500 [==============================] - 4s 3ms/step - loss: 0.3872 - accuracy: 0.8602 - val_loss: 0.3669 - val_accuracy: 0.8644\n",
            "Epoch 5/10\n",
            "1500/1500 [==============================] - 4s 2ms/step - loss: 0.3710 - accuracy: 0.8645 - val_loss: 0.3512 - val_accuracy: 0.8723\n",
            "Epoch 6/10\n",
            "1500/1500 [==============================] - 4s 3ms/step - loss: 0.3575 - accuracy: 0.8694 - val_loss: 0.3419 - val_accuracy: 0.8758\n",
            "Epoch 7/10\n",
            "1500/1500 [==============================] - 4s 3ms/step - loss: 0.3500 - accuracy: 0.8721 - val_loss: 0.3328 - val_accuracy: 0.8802\n",
            "Epoch 8/10\n",
            "1500/1500 [==============================] - 4s 2ms/step - loss: 0.3402 - accuracy: 0.8735 - val_loss: 0.3440 - val_accuracy: 0.8762\n",
            "Epoch 9/10\n",
            "1500/1500 [==============================] - 4s 3ms/step - loss: 0.3304 - accuracy: 0.8792 - val_loss: 0.3469 - val_accuracy: 0.8768\n",
            "Epoch 10/10\n",
            "1500/1500 [==============================] - 4s 3ms/step - loss: 0.3243 - accuracy: 0.8801 - val_loss: 0.3334 - val_accuracy: 0.8801\n"
          ]
        }
      ]
    },
    {
      "cell_type": "markdown",
      "source": [
        "keras 모델은 훈련된 모델의 파라미터를 저장하는 save_weights() 메서드를 제공\n",
        "- 기본적으로 tensorflow의 체크포인트 포맷으로 저장하지만 파일의 확장자가 '.h5'인 경우 HDF5 포맷으로 저장"
      ],
      "metadata": {
        "id": "ZZ3QtNWa60Kn"
      }
    },
    {
      "cell_type": "code",
      "source": [
        "# 모델의 파라미터를 저장\n",
        "model.save_weights('model-weight.h5')"
      ],
      "metadata": {
        "id": "IVqFEBtm6xaJ"
      },
      "execution_count": null,
      "outputs": []
    },
    {
      "cell_type": "code",
      "source": [
        "# 모델 구조와 모델 파라미터를 함께 저장\n",
        "model.save('model-whole.h5')"
      ],
      "metadata": {
        "id": "vCRx9gFW7Q_9"
      },
      "execution_count": null,
      "outputs": []
    },
    {
      "cell_type": "code",
      "source": [
        "!ls -al *.h5"
      ],
      "metadata": {
        "colab": {
          "base_uri": "https://localhost:8080/"
        },
        "id": "XIhHjRsE7ZWr",
        "outputId": "7365d73d-b008-4502-e453-778d67efa3e5"
      },
      "execution_count": null,
      "outputs": [
        {
          "output_type": "stream",
          "name": "stdout",
          "text": [
            "-rw-r--r-- 1 root root 333448 Feb 16 23:46 model-weight.h5\n",
            "-rw-r--r-- 1 root root 982664 Feb 16 23:46 model-whole.h5\n"
          ]
        }
      ]
    },
    {
      "cell_type": "code",
      "source": [
        "model = model_fn(keras.layers.Dropout(0.3))\n",
        "model.load_weights('model-weight.h5')"
      ],
      "metadata": {
        "id": "TW98Y66X7jay"
      },
      "execution_count": null,
      "outputs": []
    },
    {
      "cell_type": "code",
      "source": [
        "import numpy as np\n",
        "\n",
        "val_labels = np.argmax(model.predict(val_scaled), axis=-1)\n",
        "print(np.mean(val_labels == val_target))"
      ],
      "metadata": {
        "colab": {
          "base_uri": "https://localhost:8080/"
        },
        "id": "RHqBbIru8Akf",
        "outputId": "faf28e43-0739-4329-90cb-053b7fc53109"
      },
      "execution_count": null,
      "outputs": [
        {
          "output_type": "stream",
          "name": "stdout",
          "text": [
            "0.8800833333333333\n"
          ]
        }
      ]
    },
    {
      "cell_type": "code",
      "source": [
        "model = keras.models.load_model('model-whole.h5')\n",
        "model.evaluate(val_scaled, val_target)"
      ],
      "metadata": {
        "colab": {
          "base_uri": "https://localhost:8080/"
        },
        "id": "L0uVxZNk8QTC",
        "outputId": "ba59589c-01c0-4733-cbfb-a0e853e312e4"
      },
      "execution_count": null,
      "outputs": [
        {
          "output_type": "stream",
          "name": "stdout",
          "text": [
            "375/375 [==============================] - 1s 2ms/step - loss: 0.3334 - accuracy: 0.8801\n"
          ]
        },
        {
          "output_type": "execute_result",
          "data": {
            "text/plain": [
              "[0.3333797752857208, 0.8800833225250244]"
            ]
          },
          "metadata": {},
          "execution_count": 39
        }
      ]
    },
    {
      "cell_type": "markdown",
      "source": [
        "## 콜백\n",
        "- 콜백은 훈련 과정 중간에 어떤 작업을 수행할 수 있게 하는 객체로 keras.callbacks 아래에 있는 클래스들\n",
        "- fit() 메서드의 callbacks 매개변수에 리스트로 전달하여 사용"
      ],
      "metadata": {
        "id": "OG4hAQFn8ldX"
      }
    },
    {
      "cell_type": "code",
      "source": [
        "model = model_fn(keras.layers.Dropout(0.3))\n",
        "model.compile(optimizer='adam', loss='sparse_categorical_crossentropy', metrics='accuracy')\n",
        "checkpoint_cb = keras.callbacks.ModelCheckpoint('best-model.h5')\n",
        "early_stopping_cb = keras.callbacks.EarlyStopping(patience=2, # 2번 연속 검증 점수가 향상되지 않으면 훈련을 중지 \n",
        "                                                  restore_best_weights=True) # restore_best_weight=True -> 가장 낮은 검증 손실을 낸 모델 파라미터로 되돌림\n",
        "model.fit(train_scaled, train_target, epochs=20, validation_data=(val_scaled, val_target), callbacks=[checkpoint_cb, early_stopping_cb])"
      ],
      "metadata": {
        "colab": {
          "base_uri": "https://localhost:8080/"
        },
        "id": "oUUfkh3W8xko",
        "outputId": "d4d314bc-9aee-4f43-fe88-00438c697d3e"
      },
      "execution_count": null,
      "outputs": [
        {
          "output_type": "stream",
          "name": "stdout",
          "text": [
            "Epoch 1/20\n",
            "1500/1500 [==============================] - 4s 3ms/step - loss: 0.5990 - accuracy: 0.7881 - val_loss: 0.4391 - val_accuracy: 0.8430\n",
            "Epoch 2/20\n",
            "1500/1500 [==============================] - 4s 3ms/step - loss: 0.4428 - accuracy: 0.8402 - val_loss: 0.3889 - val_accuracy: 0.8597\n",
            "Epoch 3/20\n",
            "1500/1500 [==============================] - 4s 3ms/step - loss: 0.4052 - accuracy: 0.8518 - val_loss: 0.3810 - val_accuracy: 0.8668\n",
            "Epoch 4/20\n",
            "1500/1500 [==============================] - 4s 2ms/step - loss: 0.3877 - accuracy: 0.8570 - val_loss: 0.3808 - val_accuracy: 0.8624\n",
            "Epoch 5/20\n",
            "1500/1500 [==============================] - 4s 3ms/step - loss: 0.3680 - accuracy: 0.8652 - val_loss: 0.3495 - val_accuracy: 0.8731\n",
            "Epoch 6/20\n",
            "1500/1500 [==============================] - 4s 2ms/step - loss: 0.3546 - accuracy: 0.8697 - val_loss: 0.3426 - val_accuracy: 0.8751\n",
            "Epoch 7/20\n",
            "1500/1500 [==============================] - 4s 2ms/step - loss: 0.3476 - accuracy: 0.8726 - val_loss: 0.3339 - val_accuracy: 0.8790\n",
            "Epoch 8/20\n",
            "1500/1500 [==============================] - 4s 3ms/step - loss: 0.3378 - accuracy: 0.8756 - val_loss: 0.3375 - val_accuracy: 0.8766\n",
            "Epoch 9/20\n",
            "1500/1500 [==============================] - 5s 3ms/step - loss: 0.3287 - accuracy: 0.8783 - val_loss: 0.3390 - val_accuracy: 0.8763\n"
          ]
        },
        {
          "output_type": "execute_result",
          "data": {
            "text/plain": [
              "<keras.callbacks.History at 0x7f5cb028d210>"
            ]
          },
          "metadata": {},
          "execution_count": 43
        }
      ]
    },
    {
      "cell_type": "code",
      "source": [
        "print(early_stopping_cb.stopped_epoch)"
      ],
      "metadata": {
        "colab": {
          "base_uri": "https://localhost:8080/"
        },
        "id": "1RuI0n_YA9ef",
        "outputId": "61ea4c75-13b7-4477-80e6-ebfec615a33e"
      },
      "execution_count": null,
      "outputs": [
        {
          "output_type": "stream",
          "name": "stdout",
          "text": [
            "8\n"
          ]
        }
      ]
    },
    {
      "cell_type": "code",
      "source": [
        "plt.plot(history.history['loss'])\n",
        "plt.plot(history.history['val_loss'])\n",
        "plt.xlabel('epoch' ,fontsize=14)\n",
        "plt.ylabel('loss', fontsize=14)\n",
        "plt.legend(['train', 'val'])\n",
        "plt.show()"
      ],
      "metadata": {
        "colab": {
          "base_uri": "https://localhost:8080/",
          "height": 283
        },
        "id": "h9V5FgIf9cPK",
        "outputId": "8eb2df89-f75a-458d-d4e8-e741b6ec20c5"
      },
      "execution_count": null,
      "outputs": [
        {
          "output_type": "display_data",
          "data": {
            "image/png": "[encoded data removed]",
            "text/plain": [
              "<Figure size 432x288 with 1 Axes>"
            ]
          },
          "metadata": {
            "needs_background": "light"
          }
        }
      ]
    },
    {
      "cell_type": "code",
      "source": [
        "model.evaluate(val_scaled, val_target)"
      ],
      "metadata": {
        "colab": {
          "base_uri": "https://localhost:8080/"
        },
        "id": "Ox4m9QFHAl50",
        "outputId": "1b54f557-a006-4e7f-e83c-f0a673afa4f3"
      },
      "execution_count": null,
      "outputs": [
        {
          "output_type": "stream",
          "name": "stdout",
          "text": [
            "375/375 [==============================] - 1s 2ms/step - loss: 0.3339 - accuracy: 0.8790\n"
          ]
        },
        {
          "output_type": "execute_result",
          "data": {
            "text/plain": [
              "[0.3338741362094879, 0.8790000081062317]"
            ]
          },
          "metadata": {},
          "execution_count": 46
        }
      ]
    }
  ]
}