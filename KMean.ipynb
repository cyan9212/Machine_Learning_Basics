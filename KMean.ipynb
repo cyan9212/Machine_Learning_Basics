{
  "nbformat": 4,
  "nbformat_minor": 0,
  "metadata": {
    "colab": {
      "name": "KMean",
      "provenance": [],
      "collapsed_sections": [],
      "authorship_tag": "ABX9TyOxDbYMybOHDKBLLTfNcsS+",
      "include_colab_link": true
    },
    "kernelspec": {
      "name": "python3",
      "display_name": "Python 3"
    },
    "language_info": {
      "name": "python"
    }
  },
  "cells": [
    {
      "cell_type": "markdown",
      "metadata": {
        "id": "view-in-github",
        "colab_type": "text"
      },
      "source": [
        "<a href=\"https://colab.research.google.com/github/cyan9212/Machine_Learning_Basics/blob/main/KMean.ipynb\" target=\"_parent\"><img src=\"https://colab.research.google.com/assets/colab-badge.svg\" alt=\"Open In Colab\"/></a>"
      ]
    },
    {
      "cell_type": "code",
      "metadata": {
        "colab": {
          "base_uri": "https://localhost:8080/",
          "height": 430
        },
        "id": "HSIBbchDHGsQ",
        "outputId": "1bbd468d-2e00-48ef-f0e4-b9c4f1270f33"
      },
      "source": [
        "#!wget https://bit.ly/fruits_300_data -O fruits_300.npy\n",
        "import numpy as np\n",
        "from sklearn.cluster import KMeans\n",
        "import matplotlib.pyplot as plt\n",
        "\n",
        "#이미지 출력 함수\n",
        "def draw_fruits(arr, ratio=1):\n",
        "  n = len(arr)\n",
        "  rows = int(np.ceil(n/10))\n",
        "  cols = n if rows <2 else 10\n",
        "  fig, axs = plt.subplots(rows, cols, figsize=(cols*ratio, rows*ratio), squeeze=False)\n",
        "  for i in range(rows):\n",
        "    for j in range(cols):\n",
        "      if i*10 + j <n:\n",
        "        axs[i,j].imshow(arr[i*10+j], cmap='gray_r')\n",
        "      axs[i,j].axis('off')\n",
        "  plt.show()\n",
        "\n",
        "\n",
        "fruits = np.load('fruits_300.npy')\n",
        "fruits_2d = fruits.reshape(-1,100*100)\n",
        "\n",
        "#K-평균\n",
        "km = KMeans(n_clusters=3, random_state=42)\n",
        "km.fit(fruits_2d)\n",
        "\n",
        "print(np.unique(km.labels_, return_counts=True))\n",
        "\n",
        "draw_fruits(fruits[km.labels_==0]) #불리언 인덱싱\n",
        "draw_fruits(fruits[km.labels_==1])\n",
        "draw_fruits(fruits[km.labels_==2])\n",
        "draw_fruits(km.cluster_centers_.reshape(-1, 100, 100),ratio=3)\n",
        "\n",
        "print(km.transform(fruits_2d[100:101])) #클러스터 중심까지 거리를 출력\n",
        "print(km.predict(fruits_2d[100:101]))\n",
        "draw_fruits(fruits[100:101])\n",
        "print(km.n_iter_)\n",
        "\n",
        "#엘보우 방법으로 이너셔값 찾기\n",
        "inertia = []\n",
        "for k in range(2,7):\n",
        "  km = KMeans(n_clusters=k, random_state=42)\n",
        "  km.fit(fruits_2d)\n",
        "  inertia.append(km.inertia_)\n",
        "plt.plot(range(2,7), inertia)\n",
        "plt.xlabel('k')\n",
        "plt.ylabel('inertia')\n",
        "plt.show()\n"
      ],
      "execution_count": null,
      "outputs": [
        {
          "output_type": "stream",
          "text": [
            "(array([0, 1, 2], dtype=int32), array([ 91,  98, 111]))\n",
            "[[5267.70439881 8837.37750892 3393.8136117 ]]\n",
            "[2]\n"
          ],
          "name": "stdout"
        },
        {
          "output_type": "display_data",
          "data": {
            "image/png": "[encoded data removed]",
            "text/plain": [
              "<Figure size 72x72 with 1 Axes>"
            ]
          },
          "metadata": {
            "tags": [],
            "needs_background": "light"
          }
        },
        {
          "output_type": "stream",
          "text": [
            "3\n"
          ],
          "name": "stdout"
        },
        {
          "output_type": "display_data",
          "data": {
            "image/png": "[encoded data removed]",
            "text/plain": [
              "<Figure size 432x288 with 1 Axes>"
            ]
          },
          "metadata": {
            "tags": [],
            "needs_background": "light"
          }
        }
      ]
    }
  ]
}