{
  "nbformat": 4,
  "nbformat_minor": 0,
  "metadata": {
    "colab": {
      "name": "GridSearch",
      "provenance": [],
      "authorship_tag": "ABX9TyOCoPNapNJ5VwhNqgZZkA3R",
      "include_colab_link": true
    },
    "kernelspec": {
      "name": "python3",
      "display_name": "Python 3"
    },
    "language_info": {
      "name": "python"
    }
  },
  "cells": [
    {
      "cell_type": "markdown",
      "metadata": {
        "id": "view-in-github",
        "colab_type": "text"
      },
      "source": [
        "<a href=\"https://colab.research.google.com/github/cyan9212/Machine_Learning_Basics/blob/main/GridSearch.ipynb\" target=\"_parent\"><img src=\"https://colab.research.google.com/assets/colab-badge.svg\" alt=\"Open In Colab\"/></a>"
      ]
    },
    {
      "cell_type": "code",
      "metadata": {
        "colab": {
          "base_uri": "https://localhost:8080/"
        },
        "id": "jaVICsYAhWS6",
        "outputId": "03d9744e-6573-4fb9-99ec-04204a9ca885"
      },
      "source": [
        "import pandas as pd\n",
        "from sklearn.model_selection import train_test_split\n",
        "from sklearn.tree import DecisionTreeClassifier\n",
        "from sklearn.model_selection import cross_validate\n",
        "from sklearn.model_selection import StratifiedKFold\n",
        "from sklearn.model_selection import GridSearchCV\n",
        "from sklearn.model_selection import RandomizedSearchCV\n",
        "import numpy as np\n",
        "from scipy.stats import uniform, randint\n",
        "\n",
        "\n",
        "#데이터 불러오기\n",
        "wine = pd.read_csv('https://bit.ly/wine_csv_data')\n",
        "wine.info()\n",
        "wine.describe()\n",
        "data = wine[['alcohol', 'sugar', 'pH']].to_numpy()\n",
        "target = wine['class'].to_numpy()\n",
        "\n",
        "#훈련 세트/ 검증 세트/ 테스트 세트\n",
        "train_input, test_input, train_target, test_target = train_test_split(data, target, test_size=0.2, random_state=42)\n",
        "sub_input, val_input, sub_target, val_target = train_test_split(train_input, train_target, test_size=0.2, random_state=42)\n",
        "print(data.shape, sub_input.shape, val_input.shape, test_input.shape, end='\\n')\n",
        "\n",
        "#DecisionTree\n",
        "dt = DecisionTreeClassifier(random_state=42)\n",
        "dt.fit(sub_input, sub_target)\n",
        "print('Train_set: ', dt.score(sub_input, sub_target))\n",
        "print('Val_set: ', dt.score(val_input, val_target))\n",
        "print()\n",
        "\n",
        "#5폴드 교차검증\n",
        "scores = cross_validate(dt, train_input,  train_target)\n",
        "print(scores)\n",
        "print(np.mean(scores['test_score']))\n",
        "scores = cross_validate(dt, train_input, train_target, cv=StratifiedKFold())\n",
        "print(np.mean(scores['test_score']))\n",
        "\n",
        "#10폴드 교차검증\n",
        "splitter = StratifiedKFold(n_splits=10, shuffle=True, random_state=42) #Train_set을 섞기 위해 splitter를 사용\n",
        "scores = cross_validate(dt, train_input, train_target, cv=splitter)\n",
        "print(np.mean(scores['test_score']))\n",
        "\n",
        "#그리드서치\n",
        "params = {'min_impurity_decrease':[0.0001, 0.0002, 0.0003, 0.0004, 0.0005]} #탐색할 매개변수와 탐색할 값의 리스트를 딕셔너리로 생성\n",
        "gs = GridSearchCV(DecisionTreeClassifier(random_state=42), params, n_jobs=-1)\n",
        "gs.fit(train_input, train_target)\n",
        "dt = gs.best_estimator_\n",
        "print('Best_Estimator: ', dt.score(train_input, train_target))\n",
        "print('Best_params: ', gs.best_params_)\n",
        "print(gs.cv_results_['mean_test_score'])\n",
        "best_index = np.argmax(gs.cv_results_['mean_test_score'])\n",
        "print(gs.cv_results_['params'][best_index])\n",
        "\n",
        "params = {'min_impurity_decrease':np.arange(0.0001,0.001,0.0001), 'max_depth':range(5,20,1), 'min_samples_split':range(2,100,10)}\n",
        "gs = GridSearchCV(DecisionTreeClassifier(random_state=42), params, n_jobs=-1)\n",
        "gs.fit(train_input, train_target)\n",
        "print(gs.best_params_)\n",
        "print(np.max(gs.cv_results_['mean_test_score']))\n",
        "\n",
        "#randint, uniform test\n",
        "rgen = randint(0,10)\n",
        "rgen.rvs(10)\n",
        "np.unique(rgen.rvs(1000), return_counts=True)\n",
        "\n",
        "ugen = uniform(0,1)\n",
        "ugen.rvs(10)\n",
        "\n",
        "#랜덤서치\n",
        "params = {'min_impurity_decrease':uniform(0.0001,0.001), 'max_depth':randint(20,50), 'min_samples_split':randint(2,25), 'min_samples_leaf':randint(1,25)}\n",
        "gs = RandomizedSearchCV(DecisionTreeClassifier(random_state=42), params, n_iter=100, n_jobs=-1, random_state=42)\n",
        "gs.fit(train_input, train_target)\n",
        "print(gs.best_params_)\n",
        "print(np.max(gs.cv_results_['mean_test_score']))\n",
        "\n",
        "dt = gs.best_estimator_\n",
        "print(dt.score(train_input, train_target))"
      ],
      "execution_count": null,
      "outputs": [
        {
          "output_type": "stream",
          "text": [
            "<class 'pandas.core.frame.DataFrame'>\n",
            "RangeIndex: 6497 entries, 0 to 6496\n",
            "Data columns (total 4 columns):\n",
            " #   Column   Non-Null Count  Dtype  \n",
            "---  ------   --------------  -----  \n",
            " 0   alcohol  6497 non-null   float64\n",
            " 1   sugar    6497 non-null   float64\n",
            " 2   pH       6497 non-null   float64\n",
            " 3   class    6497 non-null   float64\n",
            "dtypes: float64(4)\n",
            "memory usage: 203.2 KB\n",
            "(6497, 3) (4157, 3) (1040, 3) (1300, 3)\n",
            "Train_set:  0.9971133028626413\n",
            "Val_set:  0.864423076923077\n",
            "\n",
            "{'fit_time': array([0.00661469, 0.00707126, 0.0073266 , 0.00689626, 0.00652647]), 'score_time': array([0.00070691, 0.00089645, 0.00076222, 0.0007782 , 0.00069046]), 'test_score': array([0.86923077, 0.84615385, 0.87680462, 0.84889317, 0.83541867])}\n",
            "0.855300214703487\n",
            "0.855300214703487\n",
            "0.8574181117533719\n",
            "Best_Estimator:  0.9615162593804117\n",
            "Best_params:  {'min_impurity_decrease': 0.0001}\n",
            "[0.86819297 0.86453617 0.86492226 0.86780891 0.86761605]\n",
            "{'min_impurity_decrease': 0.0001}\n",
            "{'max_depth': 14, 'min_impurity_decrease': 0.0004, 'min_samples_split': 12}\n",
            "0.8683865773302731\n",
            "{'max_depth': 39, 'min_impurity_decrease': 0.00034102546602601173, 'min_samples_leaf': 7, 'min_samples_split': 13}\n",
            "0.8695428296438884\n",
            "0.8928227823744468\n"
          ],
          "name": "stdout"
        }
      ]
    }
  ]
}