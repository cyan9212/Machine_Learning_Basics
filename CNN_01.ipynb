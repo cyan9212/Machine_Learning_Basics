{
  "nbformat": 4,
  "nbformat_minor": 0,
  "metadata": {
    "colab": {
      "name": "CNN_01.ipynb",
      "provenance": []
    },
    "kernelspec": {
      "name": "python3",
      "display_name": "Python 3"
    },
    "language_info": {
      "name": "python"
    }
  },
  "cells": [
    {
      "cell_type": "code",
      "execution_count": 2,
      "metadata": {
        "id": "rV5TvjWbC47p"
      },
      "outputs": [],
      "source": [
        "from tensorflow import keras"
      ]
    },
    {
      "cell_type": "code",
      "source": [
        "keras.layers.Conv2D(10, kernel_size=(3,3), activation='relu')"
      ],
      "metadata": {
        "colab": {
          "base_uri": "https://localhost:8080/"
        },
        "id": "dSmYNAtCDzPk",
        "outputId": "b6906906-494d-42ad-ba6a-4f2d6e837067"
      },
      "execution_count": 3,
      "outputs": [
        {
          "output_type": "execute_result",
          "data": {
            "text/plain": [
              "<keras.layers.convolutional.Conv2D at 0x7f000beb2890>"
            ]
          },
          "metadata": {},
          "execution_count": 3
        }
      ]
    },
    {
      "cell_type": "markdown",
      "source": [
        "## Padding"
      ],
      "metadata": {
        "id": "JFYvxafxEA-i"
      }
    },
    {
      "cell_type": "code",
      "source": [
        "# same padding\n",
        "keras.layers.Conv2D(10, kernel_size=(3,3), padding='same', activation='relu')"
      ],
      "metadata": {
        "colab": {
          "base_uri": "https://localhost:8080/"
        },
        "id": "C7qMTkbYEQxY",
        "outputId": "19d00736-3a16-45c9-9fd5-94b03e4994ac"
      },
      "execution_count": 4,
      "outputs": [
        {
          "output_type": "execute_result",
          "data": {
            "text/plain": [
              "<keras.layers.convolutional.Conv2D at 0x7f000b544250>"
            ]
          },
          "metadata": {},
          "execution_count": 4
        }
      ]
    },
    {
      "cell_type": "markdown",
      "source": [
        "### same padding\n",
        "- 입력과 특성맵의 크기를 동일하게 만들어 주는 패딩"
      ],
      "metadata": {
        "id": "TBHUQFpUE1Uo"
      }
    },
    {
      "cell_type": "markdown",
      "source": [
        "### valid padding\n",
        "- 패딩 없이 순수한 입력 배열에서만 합성곱을 하여 특성 맵을 만드는 경우\n",
        "- 특성맵의 크기가 줄어들 수 밖에 없다."
      ],
      "metadata": {
        "id": "3xDlHj6nFE5O"
      }
    },
    {
      "cell_type": "markdown",
      "source": [
        "## Stride\n",
        "- 기본값 = 1\n",
        "- 대부분 기본값을 사용한다."
      ],
      "metadata": {
        "id": "zJ5QlVitE0qZ"
      }
    },
    {
      "cell_type": "code",
      "source": [
        ""
      ],
      "metadata": {
        "id": "5Jkr7KryFNlL"
      },
      "execution_count": null,
      "outputs": []
    }
  ]
} 
